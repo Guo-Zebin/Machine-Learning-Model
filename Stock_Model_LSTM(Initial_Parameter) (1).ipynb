{
  "nbformat": 4,
  "nbformat_minor": 0,
  "metadata": {
    "colab": {
      "name": "Stock_Model_LSTM(Initial Parameter).ipynb",
      "provenance": []
    },
    "kernelspec": {
      "name": "python3",
      "display_name": "Python 3"
    },
    "language_info": {
      "name": "python"
    }
  },
  "cells": [
    {
      "cell_type": "code",
      "source": [
        "####\n",
        "#Title: Stock_Model_LSTM\n",
        "#Author: Guo Zebin\n",
        "\n",
        "#Description: This is stock prediction model using ML models\n",
        "#             Use LSTM and multiple features\n",
        "#Evaluation: Using MSE\n",
        "#Conclusion: LSTM performs far more better than lr and tree\n",
        "#Discussion: 1. parameter adjustment? 2. does these features reasonable as training data?"
      ],
      "metadata": {
        "id": "CRJKMUGrJfy4"
      },
      "execution_count": 1,
      "outputs": []
    },
    {
      "cell_type": "code",
      "execution_count": 2,
      "metadata": {
        "id": "joVCW_dR3kbM"
      },
      "outputs": [],
      "source": [
        "#Import all the library used\n",
        "import numpy as np\n",
        "import matplotlib.pyplot as plt\n",
        "import pandas as pd\n",
        "from sklearn.preprocessing import StandardScaler, MinMaxScaler\n",
        "from sklearn.metrics import mean_squared_error\n",
        "from tensorflow.keras import Sequential\n",
        "from tensorflow.keras.layers import Dense, LSTM, Dropout"
      ]
    },
    {
      "cell_type": "code",
      "source": [
        "#load the data from local environment\n",
        "from google.colab import files\n",
        "uploaded = files.upload()"
      ],
      "metadata": {
        "id": "w85idkYQ8g9B"
      },
      "execution_count": null,
      "outputs": []
    },
    {
      "cell_type": "code",
      "source": [
        "#store the data into df\n",
        "df = pd.read_csv('netflix.csv')\n",
        "df.tail(1000)"
      ],
      "metadata": {
        "id": "lowWqiZ28w04"
      },
      "execution_count": null,
      "outputs": []
    },
    {
      "cell_type": "code",
      "source": [
        "# get the size of data\n",
        "df.shape"
      ],
      "metadata": {
        "colab": {
          "base_uri": "https://localhost:8080/"
        },
        "id": "OTnUIu1t87fK",
        "outputId": "187ceb86-595f-41d0-f4d0-2947560f4d0e"
      },
      "execution_count": 5,
      "outputs": [
        {
          "output_type": "execute_result",
          "data": {
            "text/plain": [
              "(4881, 7)"
            ]
          },
          "metadata": {},
          "execution_count": 5
        }
      ]
    },
    {
      "cell_type": "code",
      "source": [
        "#visualise the close price data\n",
        "plt.figure(figsize=(16,8))\n",
        "plt.title('Netflix Close Price Data')\n",
        "plt.xlabel('Days')\n",
        "plt.ylabel('close price')\n",
        "plt.plot(df['Close'][4000:])\n",
        "plt.show()"
      ],
      "metadata": {
        "id": "rGcH54b79iHh"
      },
      "execution_count": null,
      "outputs": []
    },
    {
      "cell_type": "code",
      "source": [
        "# Get training part(Why choose 2018-01-01?)\n",
        "df_training = df[df['Date'] < '2018-01-01']\n",
        "df_training"
      ],
      "metadata": {
        "id": "kCSvwW0j9m9c"
      },
      "execution_count": null,
      "outputs": []
    },
    {
      "cell_type": "code",
      "source": [
        "# Get testing part\n",
        "df_testing = df[df['Date'] >= '2018-01-01']\n",
        "df_testing"
      ],
      "metadata": {
        "id": "LWk4wO_1-Tbk"
      },
      "execution_count": null,
      "outputs": []
    },
    {
      "cell_type": "code",
      "source": [
        "# get rid of trashy features(Why drop adj close?idk)\n",
        "Adj_training = df_training.drop(['Date','Adj Close'],1)\n",
        "Adj_training.head()"
      ],
      "metadata": {
        "id": "uZCDSDed-eLz"
      },
      "execution_count": null,
      "outputs": []
    },
    {
      "cell_type": "code",
      "source": [
        "# get rid of trashy features(Why drop adj close?)\n",
        "Adj_testing = df_testing.drop(['Date','Adj Close'],1)\n",
        "Adj_testing.shape"
      ],
      "metadata": {
        "id": "QTDfqcjnBtlc"
      },
      "execution_count": null,
      "outputs": []
    },
    {
      "cell_type": "code",
      "source": [
        "# Feature scaling\n",
        "scaler = MinMaxScaler()\n",
        "Adj_training = scaler.fit_transform(Adj_training)\n",
        "Adj_testing = scaler.fit_transform(Adj_testing)\n",
        "Adj_testing"
      ],
      "metadata": {
        "id": "PKxz80Y6-9pW"
      },
      "execution_count": null,
      "outputs": []
    },
    {
      "cell_type": "code",
      "source": [
        "X_train = []\n",
        "y_train = []\n",
        "X_test = []\n",
        "y_test = []"
      ],
      "metadata": {
        "id": "3pmE-lb9_Q42"
      },
      "execution_count": 40,
      "outputs": []
    },
    {
      "cell_type": "code",
      "source": [
        "Adj_training.shape"
      ],
      "metadata": {
        "id": "jOdhsDesTc8T"
      },
      "execution_count": null,
      "outputs": []
    },
    {
      "cell_type": "code",
      "source": [
        "# Create training set\n",
        "for i in range(60, Adj_training.shape[0]):\n",
        "  X_train.append(Adj_training[i-60:i])\n",
        "  y_train.append(Adj_training[i, 0])"
      ],
      "metadata": {
        "id": "pzXb-3bU_Vig"
      },
      "execution_count": 42,
      "outputs": []
    },
    {
      "cell_type": "code",
      "source": [
        "X_train, y_train = np.array(X_train), np.array(y_train)"
      ],
      "metadata": {
        "id": "qutEHCk_AChz"
      },
      "execution_count": 46,
      "outputs": []
    },
    {
      "cell_type": "code",
      "source": [
        "print(X_train.shape)"
      ],
      "metadata": {
        "id": "q-_y_boaANR7"
      },
      "execution_count": null,
      "outputs": []
    },
    {
      "cell_type": "code",
      "source": [
        "# Create testing set\n",
        "for i in range(60, Adj_testing.shape[0]):\n",
        "  X_test.append(Adj_testing[i-60:i])\n",
        "  y_test.append(Adj_testing[i, 0])"
      ],
      "metadata": {
        "id": "X7b14jYdAaL-"
      },
      "execution_count": 43,
      "outputs": []
    },
    {
      "cell_type": "code",
      "source": [
        "X_test, y_test = np.array(X_test), np.array(y_test)\n",
        "X_test\n",
        "y_test"
      ],
      "metadata": {
        "id": "indWj_2jAlY6"
      },
      "execution_count": null,
      "outputs": []
    },
    {
      "cell_type": "code",
      "source": [
        "# create LSTM model(figure out what each parameters are doing IMPORTANT!)\n",
        "model = Sequential()\n",
        "\n",
        "model.add(LSTM(units = 50, activation='relu', return_sequences = True, input_shape = (X_train.shape[1], 5)))\n",
        "model.add(Dropout(0.2))\n",
        "model.add(LSTM(units = 60, activation='relu', return_sequences = True))\n",
        "model.add(Dropout(0.2))\n",
        "model.add(LSTM(units = 60, activation='relu'))\n",
        "model.add(Dropout(0.2))\n",
        "\n",
        "model.add(Dense(units = 1))"
      ],
      "metadata": {
        "id": "Oay1KtoiPeDL"
      },
      "execution_count": 80,
      "outputs": []
    },
    {
      "cell_type": "code",
      "source": [
        "model.summary()"
      ],
      "metadata": {
        "id": "7xVO4wEoQLbF"
      },
      "execution_count": null,
      "outputs": []
    },
    {
      "cell_type": "code",
      "source": [
        "#Now do the trainging(this is one of the judgement of parameter adjustment)\n",
        "model.compile(optimizer='adam', loss = 'mean_squared_error')\n",
        "model.fit(X_train,y_train,epochs = 20,batch_size = 32)"
      ],
      "metadata": {
        "id": "tgdJE9rLRRXm"
      },
      "execution_count": null,
      "outputs": []
    },
    {
      "cell_type": "code",
      "source": [
        "X_test.shape"
      ],
      "metadata": {
        "id": "MDrOzCHIVUM5"
      },
      "execution_count": null,
      "outputs": []
    },
    {
      "cell_type": "code",
      "source": [
        "# Do the prediction\n",
        "y_predict = model.predict(X_test)\n",
        "y_predict[100]"
      ],
      "metadata": {
        "id": "OUgbwifjW_e4"
      },
      "execution_count": null,
      "outputs": []
    },
    {
      "cell_type": "code",
      "source": [
        "##visualise the data\n",
        "plt.figure(figsize=(16,8))\n",
        "plt.title('Model')\n",
        "plt.xlabel('Days')\n",
        "plt.ylabel('predict price')\n",
        "plt.plot(y_test, color = 'red', label = 'Real price')\n",
        "plt.plot(y_predict, color = 'green', label = 'Predicted price')\n",
        "plt.legend()\n",
        "plt.style.use('bmh')\n",
        "plt.show()"
      ],
      "metadata": {
        "id": "zRcPNC8vZEJ1"
      },
      "execution_count": null,
      "outputs": []
    },
    {
      "cell_type": "code",
      "source": [
        "print('MSE:')\n",
        "print(mean_squared_error(y_test, y_predict))"
      ],
      "metadata": {
        "id": "ZMoubvduc3v_"
      },
      "execution_count": null,
      "outputs": []
    }
  ]
}