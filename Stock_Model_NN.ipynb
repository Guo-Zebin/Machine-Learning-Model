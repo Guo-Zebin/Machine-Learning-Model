{
  "nbformat": 4,
  "nbformat_minor": 0,
  "metadata": {
    "colab": {
      "name": "Stock_Model_NN.ipynb",
      "provenance": []
    },
    "kernelspec": {
      "name": "python3",
      "display_name": "Python 3"
    },
    "language_info": {
      "name": "python"
    }
  },
  "cells": [
    {
      "cell_type": "code",
      "execution_count": 175,
      "metadata": {
        "id": "joVCW_dR3kbM"
      },
      "outputs": [],
      "source": [
        "import numpy as np\n",
        "import matplotlib.pyplot as plt\n",
        "import pandas as pd\n",
        "from sklearn.preprocessing import StandardScaler, MinMaxScaler\n",
        "from sklearn.metrics import mean_squared_error"
      ]
    },
    {
      "cell_type": "code",
      "source": [
        "from google.colab import files\n",
        "uploaded = files.upload()"
      ],
      "metadata": {
        "id": "w85idkYQ8g9B"
      },
      "execution_count": null,
      "outputs": []
    },
    {
      "cell_type": "code",
      "source": [
        "df = pd.read_csv('netflix.csv')\n",
        "df.tail(1000)"
      ],
      "metadata": {
        "id": "lowWqiZ28w04"
      },
      "execution_count": null,
      "outputs": []
    },
    {
      "cell_type": "code",
      "source": [
        "df.shape"
      ],
      "metadata": {
        "id": "OTnUIu1t87fK"
      },
      "execution_count": null,
      "outputs": []
    },
    {
      "cell_type": "code",
      "source": [
        "#visualise the close price data\n",
        "plt.figure(figsize=(16,8))\n",
        "plt.title('Netflix Close Price Data')\n",
        "plt.xlabel('Days')\n",
        "plt.ylabel('close price')\n",
        "plt.plot(df['Close'][4000:])\n",
        "plt.show()"
      ],
      "metadata": {
        "id": "rGcH54b79iHh"
      },
      "execution_count": null,
      "outputs": []
    },
    {
      "cell_type": "code",
      "source": [
        "df_training = df[df['Date'] < '2018-01-01']\n",
        "df_training"
      ],
      "metadata": {
        "id": "kCSvwW0j9m9c"
      },
      "execution_count": null,
      "outputs": []
    },
    {
      "cell_type": "code",
      "source": [
        "df_testing = df[df['Date'] >= '2018-01-01']\n",
        "df_testing"
      ],
      "metadata": {
        "id": "LWk4wO_1-Tbk"
      },
      "execution_count": null,
      "outputs": []
    },
    {
      "cell_type": "code",
      "source": [
        "Adj_training = df_training.drop(['Date','Adj Close'],1)\n",
        "Adj_training.head()"
      ],
      "metadata": {
        "id": "uZCDSDed-eLz"
      },
      "execution_count": null,
      "outputs": []
    },
    {
      "cell_type": "code",
      "source": [
        "Adj_testing = df_testing.drop(['Date','Adj Close'],1)\n",
        "Adj_testing.shape"
      ],
      "metadata": {
        "colab": {
          "base_uri": "https://localhost:8080/"
        },
        "id": "QTDfqcjnBtlc",
        "outputId": "0cf23925-6f8b-438f-b005-7551b5c11a75"
      },
      "execution_count": 172,
      "outputs": [
        {
          "output_type": "execute_result",
          "data": {
            "text/plain": [
              "(951, 5)"
            ]
          },
          "metadata": {},
          "execution_count": 172
        }
      ]
    },
    {
      "cell_type": "code",
      "source": [
        "scaler = MinMaxScaler()\n",
        "Adj_training = scaler.fit_transform(Adj_training)\n",
        "Adj_testing = scaler.fit_transform(Adj_testing)\n",
        "Adj_training"
      ],
      "metadata": {
        "id": "PKxz80Y6-9pW"
      },
      "execution_count": null,
      "outputs": []
    },
    {
      "cell_type": "code",
      "source": [
        "X_train = []\n",
        "y_train = []\n",
        "X_test = []\n",
        "y_test = []"
      ],
      "metadata": {
        "id": "3pmE-lb9_Q42"
      },
      "execution_count": 142,
      "outputs": []
    },
    {
      "cell_type": "code",
      "source": [
        "Adj_training.shape"
      ],
      "metadata": {
        "id": "jOdhsDesTc8T"
      },
      "execution_count": null,
      "outputs": []
    },
    {
      "cell_type": "code",
      "source": [
        "for i in range(60, Adj_training.shape[0]):\n",
        "  X_train.append(Adj_training[i-60:i])\n",
        "  y_train.append(Adj_training[i, 0])"
      ],
      "metadata": {
        "id": "pzXb-3bU_Vig"
      },
      "execution_count": 144,
      "outputs": []
    },
    {
      "cell_type": "code",
      "source": [
        "X_train, y_train = np.array(X_train), np.array(y_train)"
      ],
      "metadata": {
        "id": "qutEHCk_AChz"
      },
      "execution_count": 145,
      "outputs": []
    },
    {
      "cell_type": "code",
      "source": [
        "print(X_train.shape)"
      ],
      "metadata": {
        "id": "q-_y_boaANR7"
      },
      "execution_count": null,
      "outputs": []
    },
    {
      "cell_type": "code",
      "source": [
        "for i in range(60, Adj_testing.shape[0]):\n",
        "  X_test.append(Adj_testing[i-60:i])\n",
        "  y_test.append(Adj_testing[i, 0])"
      ],
      "metadata": {
        "id": "X7b14jYdAaL-"
      },
      "execution_count": 147,
      "outputs": []
    },
    {
      "cell_type": "code",
      "source": [
        ""
      ],
      "metadata": {
        "id": "ayZpXoZnUXFE"
      },
      "execution_count": null,
      "outputs": []
    },
    {
      "cell_type": "code",
      "source": [
        "X_test, y_test = np.array(X_test), np.array(y_test)"
      ],
      "metadata": {
        "id": "indWj_2jAlY6"
      },
      "execution_count": 148,
      "outputs": []
    },
    {
      "cell_type": "code",
      "source": [
        ""
      ],
      "metadata": {
        "id": "_iPCiKMrAzbT"
      },
      "execution_count": 52,
      "outputs": []
    },
    {
      "cell_type": "code",
      "source": [
        "model = Sequential()\n",
        "layer = Dropout(0.2)\n",
        "model.add(LSTM(units = 50, activation='relu', return_sequences = True, input_shape = (X_train.shape[1], 5)))\n",
        "model.add(layer)\n",
        "model.add(LSTM(units = 50, activation='relu', return_sequences = True))\n",
        "model.add(layer)\n",
        "model.add(LSTM(units = 50, activation='relu', return_sequences = True))\n",
        "model.add(layer)\n",
        "model.add(LSTM(units = 50, activation='relu'))\n",
        "model.add(layer)\n",
        "\n",
        "model.add(Dense(units = 1))"
      ],
      "metadata": {
        "id": "Oay1KtoiPeDL"
      },
      "execution_count": 149,
      "outputs": []
    },
    {
      "cell_type": "code",
      "source": [
        "model.summary()"
      ],
      "metadata": {
        "id": "7xVO4wEoQLbF"
      },
      "execution_count": null,
      "outputs": []
    },
    {
      "cell_type": "code",
      "source": [
        "model.compile(optimizer='adam', loss = 'mean_squared_error')\n",
        "model.fit(X_train,y_train,epochs = 20,batch_size = 32)"
      ],
      "metadata": {
        "id": "tgdJE9rLRRXm"
      },
      "execution_count": null,
      "outputs": []
    },
    {
      "cell_type": "code",
      "source": [
        "X_test.shape\n"
      ],
      "metadata": {
        "id": "MDrOzCHIVUM5"
      },
      "execution_count": null,
      "outputs": []
    },
    {
      "cell_type": "code",
      "source": [
        "y_predict = model.predict(X_test)\n",
        "y_predict"
      ],
      "metadata": {
        "id": "OUgbwifjW_e4"
      },
      "execution_count": null,
      "outputs": []
    },
    {
      "cell_type": "code",
      "source": [
        "scale = scaler.scale_[0]\n",
        "scale"
      ],
      "metadata": {
        "id": "TXvj7xPxXod0"
      },
      "execution_count": null,
      "outputs": []
    },
    {
      "cell_type": "code",
      "source": [
        "y_predict = y_predict / scale\n",
        "y_test = y_test / scale\n",
        "y_test.shape"
      ],
      "metadata": {
        "id": "rxPlzb-kYyM4"
      },
      "execution_count": null,
      "outputs": []
    },
    {
      "cell_type": "code",
      "source": [
        "##visualise\n",
        "plt.figure(figsize=(16,8))\n",
        "plt.title('Model')\n",
        "plt.xlabel('Days')\n",
        "plt.ylabel('predict price')\n",
        "plt.plot(y_test, color = 'red', label = 'Real price')\n",
        "plt.plot(y_predict, color = 'green', label = 'Predicted price')\n",
        "plt.legend()\n",
        "plt.show()"
      ],
      "metadata": {
        "id": "zRcPNC8vZEJ1"
      },
      "execution_count": null,
      "outputs": []
    },
    {
      "cell_type": "code",
      "source": [
        "\n",
        "print('MSE:')\n",
        "print(mean_squared_error(y_test*scale, y_predict*scale)/891*638.7271185815334)"
      ],
      "metadata": {
        "id": "ZMoubvduc3v_"
      },
      "execution_count": null,
      "outputs": []
    }
  ]
}